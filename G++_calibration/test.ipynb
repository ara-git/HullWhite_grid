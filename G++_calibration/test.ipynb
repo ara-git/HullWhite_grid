{
 "cells": [
  {
   "cell_type": "code",
   "execution_count": 22,
   "metadata": {},
   "outputs": [],
   "source": [
    "import pandas as pd\n",
    "import numpy as np\n",
    "import math\n",
    "import matplotlib.pyplot as plt"
   ]
  },
  {
   "cell_type": "code",
   "execution_count": 23,
   "metadata": {},
   "outputs": [],
   "source": [
    "class G_n_plusplus:\n",
    "    def __init__(self, n_factor = 2) -> None:\n",
    "        \"\"\"\n",
    "        Augs\n",
    "            discount_factor_vec: 割引率のベクトル。スワップのCFに合う形を想定\n",
    "        \"\"\"\n",
    "        # ファクターの数を設定する。\n",
    "        self.n_factor = n_factor        \n",
    "\n",
    "        # 初期値を設定する\n",
    "        self.variance_vec = np.array([1] * n_factor)\n",
    "        self.drift_vec = np.array([1] * n_factor)\n",
    "        self.a_vec = np.array([1] * n_factor)\n",
    "        self.correlation_mat = np.eye(self.n_factor)\n",
    "\n",
    "\n",
    "    def _calc_swaption_price(self, maturity, strike, nominal_value, first_swap_time, time_fraction, n_swap, discount_factor_vec) -> float:\n",
    "        \"\"\"\n",
    "        Augs\n",
    "            marurity: スワップション満期（年）\n",
    "            strike: スワップションの行使価格\n",
    "            nominal_value: よくわからんけど、論文だと\"N\"\n",
    "            first_swap_time: スワップ行使の開始時点（年）\n",
    "            time_fraction: スワップ行使の時間幅(年)\n",
    "            n_swap: スワップ回数\n",
    "            discount_factor_vec: 割引率のベクトル。スワップのCFに合う形を想定(長さは\"n_swap\"と一致。)\n",
    "        \"\"\" \n",
    "        # 入力を整理\n",
    "        self.maturity = maturity\n",
    "        self.strike = strike\n",
    "        self.nominal_value = nominal_value\n",
    "        self.first_swap_time = first_swap_time\n",
    "        self.time_fraction = time_fraction\n",
    "        self.n_swap = n_swap\n",
    "        self.discount_factor_vec = discount_factor_vec\n",
    "\n",
    "        # 最後のスワップの時刻をfinal_swap_timeとする\n",
    "        self.final_swap_time = self.first_swap_time + self.time_fraction * self.n_swap\n",
    "\n",
    "        # time fractionとDiscount Factorの積和を計算する。（ここでは、time fractionが定数と仮定しているため、Discount Factorの和にtime fractionをあとから掛けている）\n",
    "        self.P = sum(self.discount_factor_vec) * self.time_fraction\n",
    "        \n",
    "        # Aのリストを作成する\n",
    "        self._calc_A()\n",
    "\n",
    "        # VOLを計算する\n",
    "        self._calc_VOL()\n",
    "        \n",
    "        # 理論解を計算\n",
    "        self.theoretical_swaption_price = self.nominal_value * self.VOL * self.P / math.sqrt(2 * np.pi)\n",
    "\n",
    "    def _calc_A(self) -> list:\n",
    "        \"\"\"\n",
    "        A_i (i = 1, 2, ..., factor数)を作成する。\n",
    "        calc_swaption_priceのサブ的な関数\n",
    "        \"\"\"\n",
    "        self.A = []\n",
    "        for i in range(self.n_factor):\n",
    "            # A の二つ目の項と最後の項を分けて計算\n",
    "            # self.discount_factor_vec[0]は\"P(0, T)\"を表す\n",
    "            A = math.exp(- self.drift_vec[i] * self.maturity) * self.discount_factor_vec[0] / self.P - math.exp(- self.drift_vec[i] * self.final_swap_time) * self.discount_factor_vec[-1] / self.P\n",
    "\n",
    "            final_term_of_A = 0\n",
    "            for j in range(self.n_swap):\n",
    "                # スワップの実行時刻\n",
    "                t_j = self.first_swap_time + self.time_fraction * j\n",
    "\n",
    "                final_term_of_A += math.exp(- self.drift_vec[i] * t_j) * self.time_fraction * self.discount_factor_vec[j]\n",
    "            \n",
    "            final_term_of_A *= - self.strike\n",
    "            \n",
    "            # 最後の項を加算\n",
    "            A += final_term_of_A\n",
    "            \n",
    "            # リストに格納\n",
    "            self.A.append(A)\n",
    "        \n",
    "    def _calc_VOL(self) -> float:\n",
    "        \"\"\"\n",
    "        VOLを計算する。calc_swaption_priceのサブ的な関数\n",
    "        \"\"\"\n",
    "        VOL = 0\n",
    "        for i in range(self.n_factor):\n",
    "            for j in range(self.n_factor):\n",
    "                VOL += self.variance_vec[i] * self.variance_vec[j] * self.correlation_mat[i, j] * self.A[i] * self.A[j] * \\\n",
    "                    (math.exp((self.drift_vec[i] + self.drift_vec[j]) * self.maturity) - 1) / (self.drift_vec[i] + self.drift_vec[j])\n",
    "                \n",
    "        self.VOL = math.sqrt(VOL)"
   ]
  },
  {
   "attachments": {},
   "cell_type": "markdown",
   "metadata": {},
   "source": [
    "# set a input"
   ]
  },
  {
   "cell_type": "code",
   "execution_count": 24,
   "metadata": {},
   "outputs": [
    {
     "data": {
      "text/plain": [
       "[<matplotlib.lines.Line2D at 0x16b52389d00>]"
      ]
     },
     "execution_count": 24,
     "metadata": {},
     "output_type": "execute_result"
    },
    {
     "data": {
      "image/png": "[encoded data removed]",
      "text/plain": [
       "<Figure size 432x288 with 1 Axes>"
      ]
     },
     "metadata": {
      "needs_background": "light"
     },
     "output_type": "display_data"
    }
   ],
   "source": [
    "maturity = 10\n",
    "strike = 0.05\n",
    "nominal_value = 1\n",
    "first_swap_time = 11\n",
    "time_fraction = 0.5\n",
    "n_swap = 6\n",
    "discount_factor_vec = [0.99, 0.95, 0.85, 0.81, 0.8, 0.75]\n",
    "\n",
    "plt.plot(discount_factor_vec)"
   ]
  },
  {
   "cell_type": "code",
   "execution_count": 28,
   "metadata": {},
   "outputs": [
    {
     "data": {
      "text/plain": [
       "0.3684090138614806"
      ]
     },
     "execution_count": 28,
     "metadata": {},
     "output_type": "execute_result"
    }
   ],
   "source": [
    "instance_G_2 = G_n_plusplus()\n",
    "\n",
    "instance_G_2._calc_swaption_price(maturity=maturity, strike=strike, nominal_value=nominal_value, first_swap_time=first_swap_time, time_fraction=time_fraction, n_swap=n_swap, discount_factor_vec=discount_factor_vec)\n",
    "instance_G_2.theoretical_swaption_price"
   ]
  },
  {
   "cell_type": "code",
   "execution_count": 30,
   "metadata": {},
   "outputs": [
    {
     "data": {
      "text/plain": [
       "0.35862697117441217"
      ]
     },
     "execution_count": 30,
     "metadata": {},
     "output_type": "execute_result"
    }
   ],
   "source": [
    "instance_G_2.VOL"
   ]
  }
 ],
 "metadata": {
  "kernelspec": {
   "display_name": "aigle-pipeline",
   "language": "python",
   "name": "python3"
  },
  "language_info": {
   "codemirror_mode": {
    "name": "ipython",
    "version": 3
   },
   "file_extension": ".py",
   "mimetype": "text/x-python",
   "name": "python",
   "nbconvert_exporter": "python",
   "pygments_lexer": "ipython3",
   "version": "3.8.12"
  },
  "orig_nbformat": 4
 },
 "nbformat": 4,
 "nbformat_minor": 2
}
