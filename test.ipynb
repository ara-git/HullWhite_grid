{
 "cells": [
  {
   "cell_type": "code",
   "execution_count": 9,
   "metadata": {},
   "outputs": [],
   "source": [
    "import numpy as np\n",
    "import math"
   ]
  },
  {
   "cell_type": "code",
   "execution_count": 10,
   "metadata": {},
   "outputs": [],
   "source": [
    "class HullWhite_grid:\n",
    "    \"\"\"\n",
    "    af\n",
    "    \"\"\"\n",
    "    def __init__(self, T, a, sigma, phi, r_0, N):\n",
    "        \"\"\"\n",
    "        初期化する。\n",
    "        Augs\n",
    "            T: 最大の時間\n",
    "            a: ドリフト\n",
    "        \"\"\"        \n",
    "        # 入力を整理\n",
    "        self.T = T\n",
    "        self.a = a\n",
    "        self.sigma = sigma\n",
    "        self.phi = phi\n",
    "        self.r_0 = r_0\n",
    "        self.N = N  \n",
    "\n",
    "        # 格子の縦・横の幅を設定\n",
    "        self.delta_t = self.T / self.N\n",
    "        self.delta_x = self.sigma * (3 * self.delta_t) ** (1 / 2)\n",
    "\n",
    "        # 格子の端点を設定\n",
    "        self.I = math.ceil(6 ** (1 / 2) / (3 * self.a * self.delta_t))\n",
    "        \n",
    "        # 諸々の格子を作成する\n",
    "        self.X_matrix = self._make_X_matrix()\n",
    "        self.r_matrix = self._make_r_matrix()\n",
    "        \n",
    "    def calc_discount_bond_price(self, payoff = 1):\n",
    "        \"\"\"\n",
    "        backwardで割引債価格を求める\n",
    "        Augs\n",
    "            payoff: 満期における割引債価格のペイオフ(指定しなければ1)\n",
    "        \"\"\"\n",
    "        discount_bond_matrix = np.zeros((self.I * 2 + 1, self.N))\n",
    "        discount_bond_matrix[:, self.N - 1] = payoff\n",
    "\n",
    "        for j in reversed(range(self.N - 1)):\n",
    "            for i in range(-self.I, self.I + 1):\n",
    "                if abs(i) > j:\n",
    "                    # 不要な部分は計算しない\n",
    "                    continue\n",
    "\n",
    "                # 推移確率を計算\n",
    "                prob = self._calc_prob(i)\n",
    "\n",
    "                if abs(i) < self.I:\n",
    "                    \"\"\"\n",
    "                    タイプA\n",
    "                    \"\"\"\n",
    "                    discount_bond_matrix[self.I - i, j] += discount_bond_matrix[self.I - i - 1, j + 1] * prob[\"up\"]\n",
    "                    discount_bond_matrix[self.I - i, j] += discount_bond_matrix[self.I - i, j + 1] * prob[\"mid\"]\n",
    "                    discount_bond_matrix[self.I - i, j] += discount_bond_matrix[self.I - i + 1, j + 1] * prob[\"down\"]\n",
    "\n",
    "                elif i == self.I:\n",
    "                    \"\"\"\n",
    "                    タイプC\n",
    "                    \"\"\" \n",
    "                    # 格子上側\n",
    "                    discount_bond_matrix[self.I - i, j] += discount_bond_matrix[self.I - i + 2, j + 1] * prob[\"down_2\"]\n",
    "                    discount_bond_matrix[self.I - i, j] += discount_bond_matrix[self.I - i + 1, j + 1] * prob[\"down\"]\n",
    "                    discount_bond_matrix[self.I - i, j] += discount_bond_matrix[self.I - i, j + 1] * prob[\"mid\"]\n",
    "\n",
    "                elif i == - self.I:\n",
    "                    \"\"\"\n",
    "                    タイプB\n",
    "                    \"\"\" \n",
    "                    # 格子下側\n",
    "                    discount_bond_matrix[self.I - i, j] += discount_bond_matrix[self.I - i - 2, j + 1] * prob[\"up_2\"]\n",
    "                    discount_bond_matrix[self.I - i, j] += discount_bond_matrix[self.I - i - 1, j + 1] * prob[\"up\"]\n",
    "                    discount_bond_matrix[self.I - i, j] += discount_bond_matrix[self.I - i, j + 1] * prob[\"mid\"]\n",
    "\n",
    "                # 金利を掛ける\n",
    "                discount_bond_matrix[I - i, j] *= math.exp(- self.r_matrix[I - i, j] * self.delta_t) \n",
    "        return discount_bond_matrix\n",
    "    \n",
    "    def _make_X_matrix(self):\n",
    "        \"\"\"\n",
    "        Xの格子を作成する\n",
    "        (I * 2 + 1) × Nの配列をベースに作成\n",
    "        \"\"\"\n",
    "        X_matrix = np.zeros((self.I * 2 + 1, self.N))\n",
    "        for j in range(self.N):\n",
    "            # j：列番号\n",
    "            for i in range(min([j + 1, self.I + 1])):\n",
    "                # i: 中心線からの距離\n",
    "                # 表からはみ出ないようにしつつ、値を代入\n",
    "                X_matrix[self.I - i, j] = i * self.delta_x\n",
    "                X_matrix[self.I + i, j] = - i * self.delta_x\n",
    "\n",
    "        return X_matrix\n",
    "    \n",
    "    def _theta_function(self, t):\n",
    "        theta = self.phi / self.a * (1 - math.exp(- self.a * t)) + self.r_0 * math.exp(- self.a * t)        \n",
    "        return theta\n",
    "    \n",
    "    def _make_r_matrix(self):\n",
    "        \"\"\"\n",
    "        スポットレートの格子を作る\n",
    "        X_matrixをtheta(t)分シフトするだけ\n",
    "        \"\"\"\n",
    "        r_matrix = self.X_matrix.copy()\n",
    "                \n",
    "        for j in range(self.N):\n",
    "            # j：列番号\n",
    "            r_matrix[self.I, j] += self._theta_function(self.delta_t * j)\n",
    "\n",
    "            for i in range(1, min([j + 1, self.I + 1])):\n",
    "                # i: 中心線からの距離\n",
    "                # 表からはみ出ないようにしつつ、値を加算\n",
    "                r_matrix[self.I - i, j] += self._theta_function(self.delta_t * j)\n",
    "                r_matrix[self.I + i, j] += self._theta_function(self.delta_t * j)\n",
    "        return r_matrix\n",
    "\n",
    "    def _calc_prob(self, i):\n",
    "        \"\"\"\n",
    "        推移確率を計算する\n",
    "        \"\"\"\n",
    "        if abs(i) < I:\n",
    "            \"\"\"\n",
    "            タイプA\n",
    "            \"\"\"\n",
    "            # i: 中心線からの距離\n",
    "            # 各点の確率を計算\n",
    "            eta = (self.a * i * self.delta_x * self.delta_t) ** 2 + self.sigma ** 2 * self.delta_t\n",
    "            up_prob = (eta - self.a * i * self.delta_x ** 2 * self.delta_t) / (2 * self.delta_x ** 2)\n",
    "            mid_prob = 1 - eta / self.delta_x ** 2\n",
    "            down_prob = (eta + self.a * i * self.delta_x ** 2 * self.delta_t) / (2 * self.delta_x ** 2)\n",
    "\n",
    "            down_2_prob = 0\n",
    "            up_2_prob = 0\n",
    "\n",
    "        elif i == self.I:\n",
    "            \"\"\"\n",
    "            タイプC\n",
    "            \"\"\" \n",
    "            # 格子上側\n",
    "            mid_prob = 7/6 + (self.a ** 2 * i ** 2 * self.delta_t ** 2 - 3 * self.a * i * self.delta_t) / 2\n",
    "            down_prob = -1/3 - self.a ** 2 * i ** 2 * self.delta_t ** 2 + 2 * self.a * i * self.delta_t\n",
    "            down_2_prob = 1/6 + (self.a ** 2 * i ** 2 * self.delta_t ** 2 - self.a * i * self.delta_t) / 2\n",
    "            \n",
    "            up_prob = 0\n",
    "            up_2_prob = 0\n",
    "            \n",
    "        elif i == -self.I:\n",
    "            \"\"\"\n",
    "            タイプB\n",
    "            \"\"\" \n",
    "            # 格子下側\n",
    "            up_2_prob = 1/6 + (self.a ** 2 * i ** 2 * self.delta_t ** 2 - self.a * abs(i) * self.delta_t) / 2\n",
    "            up_prob = -1/3 - self.a ** 2 * i ** 2 * self.delta_t ** 2 + 2 * self.a * abs(i) * self.delta_t\n",
    "            mid_prob = 7/6 + (self.a ** 2 * i ** 2 * self.delta_t ** 2 - 3 * self.a * abs(i) * self.delta_t) / 2\n",
    "\n",
    "            down_prob = 0\n",
    "            down_2_prob = 0\n",
    "            \n",
    "        return {\"up_2\": up_2_prob,\n",
    "                \"up\": up_prob,\n",
    "                \"mid\": mid_prob,\n",
    "                \"down\": down_prob, \n",
    "                \"down_2\": down_2_prob}"
   ]
  },
  {
   "attachments": {},
   "cell_type": "markdown",
   "metadata": {},
   "source": [
    "Set parameters"
   ]
  },
  {
   "cell_type": "code",
   "execution_count": 11,
   "metadata": {},
   "outputs": [],
   "source": [
    "T = 5\n",
    "a = 0.2\n",
    "sigma = 0.02\n",
    "phi = 0.05\n",
    "r_0 = 0.05"
   ]
  },
  {
   "cell_type": "code",
   "execution_count": 12,
   "metadata": {},
   "outputs": [],
   "source": [
    "N = 5"
   ]
  },
  {
   "cell_type": "code",
   "execution_count": 13,
   "metadata": {},
   "outputs": [
    {
     "data": {
      "text/plain": [
       "(1.0, 0.034641016151377546)"
      ]
     },
     "execution_count": 13,
     "metadata": {},
     "output_type": "execute_result"
    }
   ],
   "source": [
    "delta_t = T / N\n",
    "delta_x = sigma * (3 * delta_t) ** (1 / 2)\n",
    "\n",
    "delta_t, delta_x"
   ]
  },
  {
   "cell_type": "code",
   "execution_count": 14,
   "metadata": {},
   "outputs": [
    {
     "data": {
      "text/plain": [
       "5"
      ]
     },
     "execution_count": 14,
     "metadata": {},
     "output_type": "execute_result"
    }
   ],
   "source": [
    "I = math.ceil((6 ** (1 / 2)) / (3 * a * delta_t))\n",
    "I"
   ]
  },
  {
   "cell_type": "code",
   "execution_count": 15,
   "metadata": {},
   "outputs": [
    {
     "data": {
      "text/plain": [
       "4.0824829046386295"
      ]
     },
     "execution_count": 15,
     "metadata": {},
     "output_type": "execute_result"
    }
   ],
   "source": [
    "(6 ** (1 / 2)) / (3 * a * delta_t)"
   ]
  },
  {
   "attachments": {},
   "cell_type": "markdown",
   "metadata": {},
   "source": [
    "Set a Class"
   ]
  },
  {
   "cell_type": "code",
   "execution_count": 16,
   "metadata": {},
   "outputs": [],
   "source": [
    "instance = HullWhite_grid(T, a, sigma, phi, r_0, N)"
   ]
  },
  {
   "cell_type": "code",
   "execution_count": 17,
   "metadata": {},
   "outputs": [],
   "source": [
    "r = instance.r_matrix\n",
    "X = instance.X_matrix"
   ]
  },
  {
   "cell_type": "code",
   "execution_count": 18,
   "metadata": {},
   "outputs": [],
   "source": [
    "dis = instance.calc_discount_bond_price()"
   ]
  },
  {
   "cell_type": "code",
   "execution_count": 19,
   "metadata": {},
   "outputs": [
    {
     "name": "stdout",
     "output_type": "stream",
     "text": [
      "0.05\n",
      "0.08625384938440364\n",
      "0.11593599079287215\n",
      "0.14023767278119473\n",
      "0.1601342071765557\n"
     ]
    }
   ],
   "source": [
    "for i in range(5):\n",
    "    print(instance._theta_function(i))"
   ]
  },
  {
   "attachments": {},
   "cell_type": "markdown",
   "metadata": {},
   "source": []
  }
 ],
 "metadata": {
  "kernelspec": {
   "display_name": "aigle-pipeline",
   "language": "python",
   "name": "python3"
  },
  "language_info": {
   "codemirror_mode": {
    "name": "ipython",
    "version": 3
   },
   "file_extension": ".py",
   "mimetype": "text/x-python",
   "name": "python",
   "nbconvert_exporter": "python",
   "pygments_lexer": "ipython3",
   "version": "3.8.12"
  },
  "orig_nbformat": 4
 },
 "nbformat": 4,
 "nbformat_minor": 2
}
