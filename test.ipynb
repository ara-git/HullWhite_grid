{
 "cells": [
  {
   "attachments": {},
   "cell_type": "markdown",
   "metadata": {},
   "source": [
    "Read libraries"
   ]
  },
  {
   "cell_type": "code",
   "execution_count": 1,
   "metadata": {},
   "outputs": [],
   "source": [
    "import pandas as pd\n",
    "import numpy as np\n",
    "import math\n",
    "import matplotlib.pyplot as plt"
   ]
  },
  {
   "attachments": {},
   "cell_type": "markdown",
   "metadata": {},
   "source": [
    "Set a Class"
   ]
  },
  {
   "cell_type": "code",
   "execution_count": 2,
   "metadata": {},
   "outputs": [],
   "source": [
    "class HullWhite_grid:\n",
    "    \"\"\"\n",
    "    HullWhiteモデルをベースとした、金利の格子をインスタンス変数に持つようなクラスを設定する。\n",
    "    また、割引債価格を求める関数もメソッドに持つ\n",
    "    \"\"\"\n",
    "    def __init__(self, T, a, sigma, phi, r_0, N):\n",
    "        \"\"\"\n",
    "        初期化する。\n",
    "        Augs\n",
    "            T: 最大の時間\n",
    "            a: ドリフト\n",
    "        \"\"\"        \n",
    "        # 入力を整理\n",
    "        self.T = T\n",
    "        self.a = a\n",
    "        self.sigma = sigma\n",
    "        self.phi = phi\n",
    "        self.r_0 = r_0\n",
    "        self.N = N  \n",
    "\n",
    "        # 格子の縦・横の幅を設定\n",
    "        self.delta_t = self.T / self.N\n",
    "        self.delta_x = self.sigma * (3 * self.delta_t) ** (1 / 2)\n",
    "         \n",
    "        # 格子の端点を設定\n",
    "        self.I = math.ceil(6 ** (1 / 2) / (3 * self.a * self.delta_t))\n",
    "        \n",
    "        # 諸々の格子を作成する\n",
    "        self.X_matrix = self._make_X_matrix()\n",
    "        self.r_matrix = self._make_r_matrix()\n",
    "        \n",
    "    def calc_discount_bond_price(self, payoff = 1):\n",
    "        \"\"\"\n",
    "        backwardで割引債価格を求める\n",
    "        Augs\n",
    "            payoff: 満期における割引債価格のペイオフ(指定しなければ1)\n",
    "        Returns\n",
    "            discount_bond_price: 0時点における割引債価格\n",
    "        \"\"\"\n",
    "        discount_bond_matrix = np.zeros((self.I * 2 + 1, self.N))\n",
    "        discount_bond_matrix[:, self.N - 1] = payoff\n",
    "\n",
    "        for j in reversed(range(self.N - 1)):\n",
    "            for i in range(-self.I, self.I + 1):\n",
    "                if abs(i) > j:\n",
    "                    # 不要な部分は計算しない\n",
    "                    continue\n",
    "\n",
    "                # 推移確率を計算\n",
    "                prob = self._calc_prob(i)\n",
    "                # print(\"i\", i, prob)\n",
    "                \n",
    "                if abs(i) < self.I:\n",
    "                    \"\"\"\n",
    "                    タイプA\n",
    "                    \"\"\"\n",
    "                    discount_bond_matrix[self.I - i, j] += discount_bond_matrix[self.I - i - 1, j + 1] * prob[\"up\"]\n",
    "                    discount_bond_matrix[self.I - i, j] += discount_bond_matrix[self.I - i, j + 1] * prob[\"mid\"]\n",
    "                    discount_bond_matrix[self.I - i, j] += discount_bond_matrix[self.I - i + 1, j + 1] * prob[\"down\"]\n",
    "                    \n",
    "                elif i == self.I:\n",
    "                    \"\"\"\n",
    "                    タイプC\n",
    "                    \"\"\" \n",
    "                    # 格子上側\n",
    "                    discount_bond_matrix[self.I - i, j] += discount_bond_matrix[self.I - i + 2, j + 1] * prob[\"down_2\"]\n",
    "                    discount_bond_matrix[self.I - i, j] += discount_bond_matrix[self.I - i + 1, j + 1] * prob[\"down\"]\n",
    "                    discount_bond_matrix[self.I - i, j] += discount_bond_matrix[self.I - i, j + 1] * prob[\"mid\"]\n",
    "\n",
    "                elif i == - self.I:\n",
    "                    \"\"\"\n",
    "                    タイプB\n",
    "                    \"\"\" \n",
    "                    # 格子下側\n",
    "                    discount_bond_matrix[self.I - i, j] += discount_bond_matrix[self.I - i - 2, j + 1] * prob[\"up_2\"]\n",
    "                    discount_bond_matrix[self.I - i, j] += discount_bond_matrix[self.I - i - 1, j + 1] * prob[\"up\"]\n",
    "                    discount_bond_matrix[self.I - i, j] += discount_bond_matrix[self.I - i, j + 1] * prob[\"mid\"]\n",
    "\n",
    "                # 金利を掛ける\n",
    "                discount_bond_matrix[self.I - i, j] *= math.exp(- self.r_matrix[I - i, j] * self.delta_t) \n",
    "        discount_bond_price = discount_bond_matrix[self.I, 0]\n",
    "\n",
    "        return discount_bond_price\n",
    "    \n",
    "    def _make_X_matrix(self):\n",
    "        \"\"\"\n",
    "        Xの格子を作成する\n",
    "        (I * 2 + 1) × Nの配列をベースに作成\n",
    "        \"\"\"\n",
    "        X_matrix = np.zeros((self.I * 2 + 1, self.N))\n",
    "                \n",
    "        for j in range(self.N):\n",
    "            # j：列番号\n",
    "            for i in range(-self.I, self.I + 1):\n",
    "                if abs(i) > j:\n",
    "                    # 不要な部分は計算しない\n",
    "                    continue\n",
    "                else:\n",
    "                    X_matrix[self.I - i, j] = i * self.delta_x\n",
    "\n",
    "        return X_matrix\n",
    "    \n",
    "    def _theta_function(self, t):\n",
    "        theta = self.phi / self.a * (1 - math.exp(- self.a * t)) + self.r_0 * math.exp(- self.a * t)        \n",
    "        return theta\n",
    "    \n",
    "    def _make_r_matrix(self):\n",
    "        \"\"\"\n",
    "        スポットレートの格子を作る\n",
    "        X_matrixをtheta(t)分シフトするだけ\n",
    "        \"\"\"\n",
    "        r_matrix = self.X_matrix.copy()\n",
    "                \n",
    "        for j in range(self.N):\n",
    "            # j：列番号\n",
    "            r_matrix[self.I, j] += self._theta_function(self.delta_t * j)\n",
    "\n",
    "            for i in range(1, min([j + 1, self.I + 1])):\n",
    "                # i: 中心線からの距離\n",
    "                # 表からはみ出ないようにしつつ、値を加算\n",
    "                r_matrix[self.I - i, j] += self._theta_function(self.delta_t * j)\n",
    "                r_matrix[self.I + i, j] += self._theta_function(self.delta_t * j)\n",
    "        return r_matrix\n",
    "\n",
    "    def _calc_prob(self, i):\n",
    "        \"\"\"\n",
    "        推移確率を計算する\n",
    "        \"\"\"\n",
    "        if abs(i) < self.I:\n",
    "            \"\"\"\n",
    "            タイプA\n",
    "            \"\"\"\n",
    "            # i: 中心線からの距離\n",
    "            # 各点の確率を計算\n",
    "            eta = (self.a * i * self.delta_x * self.delta_t) ** 2 + self.sigma ** 2 * self.delta_t\n",
    "            up_prob = (eta - self.a * i * self.delta_x ** 2 * self.delta_t) / (2 * self.delta_x ** 2)\n",
    "            mid_prob = 1 - eta / self.delta_x ** 2\n",
    "            down_prob = (eta + self.a * i * self.delta_x ** 2 * self.delta_t) / (2 * self.delta_x ** 2)\n",
    "\n",
    "            down_2_prob = 0\n",
    "            up_2_prob = 0\n",
    "\n",
    "        elif i == self.I:\n",
    "            \"\"\"\n",
    "            タイプC\n",
    "            \"\"\" \n",
    "            # 格子上側\n",
    "            mid_prob = 7/6 + (self.a ** 2 * i ** 2 * self.delta_t ** 2 - 3 * self.a * i * self.delta_t) / 2\n",
    "            down_prob = -1/3 - self.a ** 2 * i ** 2 * self.delta_t ** 2 + 2 * self.a * i * self.delta_t\n",
    "            down_2_prob = 1/6 + (self.a ** 2 * i ** 2 * self.delta_t ** 2 - self.a * i * self.delta_t) / 2\n",
    "            \n",
    "            up_prob = 0\n",
    "            up_2_prob = 0\n",
    "            \n",
    "        elif i == -self.I:\n",
    "            \"\"\"\n",
    "            タイプB\n",
    "            \"\"\" \n",
    "            # 格子下側\n",
    "            up_2_prob = 1/6 + (self.a ** 2 * i ** 2 * self.delta_t ** 2 - self.a * abs(i) * self.delta_t) / 2\n",
    "            up_prob = -1/3 - self.a ** 2 * i ** 2 * self.delta_t ** 2 + 2 * self.a * abs(i) * self.delta_t\n",
    "            mid_prob = 7/6 + (self.a ** 2 * i ** 2 * self.delta_t ** 2 - 3 * self.a * abs(i) * self.delta_t) / 2\n",
    "\n",
    "            down_prob = 0\n",
    "            down_2_prob = 0\n",
    "            \n",
    "        return {\"up_2\": up_2_prob,\n",
    "                \"up\": up_prob,\n",
    "                \"mid\": mid_prob,\n",
    "                \"down\": down_prob, \n",
    "                \"down_2\": down_2_prob}"
   ]
  },
  {
   "attachments": {},
   "cell_type": "markdown",
   "metadata": {},
   "source": [
    "Set common parameters"
   ]
  },
  {
   "cell_type": "code",
   "execution_count": 3,
   "metadata": {},
   "outputs": [],
   "source": [
    "T = 5\n",
    "a = 0.2\n",
    "sigma = 0.02\n",
    "phi = 0.05\n",
    "r_0 = 0.05"
   ]
  },
  {
   "attachments": {},
   "cell_type": "markdown",
   "metadata": {},
   "source": [
    "Calculation"
   ]
  },
  {
   "cell_type": "code",
   "execution_count": 4,
   "metadata": {},
   "outputs": [],
   "source": [
    "result_list = []\n",
    "\n",
    "for N in [5, 10, 15, 20, 25, 30, 35, 40, 45, 50, 55, 60, 65, 70, 75, 100, 125, 150, 175, 200]:\n",
    "    # パラメータを作成する\n",
    "    delta_t = T / N\n",
    "    delta_x = sigma * (3 * delta_t) ** (1 / 2)\n",
    "    I = math.ceil((6 ** (1 / 2)) / (3 * a * delta_t))\n",
    "    # インスタンス作成\n",
    "    instance = HullWhite_grid(T, a, sigma, phi, r_0, N)\n",
    "    # 割引債価格を求める\n",
    "    discount_bond_price = instance.calc_discount_bond_price()\n",
    "    # 結果を保存\n",
    "    result_list.append([N, discount_bond_price])"
   ]
  },
  {
   "cell_type": "code",
   "execution_count": 5,
   "metadata": {},
   "outputs": [],
   "source": [
    "result_df = pd.DataFrame(result_list, columns = [\"N\" ,\"Discount Bond Price\"])"
   ]
  },
  {
   "attachments": {},
   "cell_type": "markdown",
   "metadata": {},
   "source": [
    "Summary"
   ]
  },
  {
   "cell_type": "code",
   "execution_count": 6,
   "metadata": {},
   "outputs": [],
   "source": [
    "# 理論解を設定（書籍から転記）\n",
    "theoretical_solution = 0.541357\n",
    "\n",
    "# 教科書記載の解を設定\n",
    "result_df = pd.concat([result_df, pd.DataFrame([0.577654, 0.558917, 0.552936, 0.549994, 0.548244, 0.547084, 0.546258, 0.545640, 0.545161, 0.544778, 0.544465, 0.544205, 0.543984, 0.543769, 0.543633], columns = [\"Book Solution\"])], axis = 1)"
   ]
  },
  {
   "cell_type": "code",
   "execution_count": 36,
   "metadata": {},
   "outputs": [
    {
     "data": {
      "image/png": "[encoded data removed]",
      "text/plain": [
       "<Figure size 720x288 with 1 Axes>"
      ]
     },
     "metadata": {
      "needs_background": "light"
     },
     "output_type": "display_data"
    }
   ],
   "source": [
    "# シミュレーション結果を出力\n",
    "\n",
    "plt.rcParams[\"figure.figsize\"] = (10, 4)\n",
    "\n",
    "plt.title(\"Discount Bond Price\")\n",
    "plt.plot(result_df[\"N\"], result_df[\"Discount Bond Price\"], \"o\", label = \"Simulation Result\")\n",
    "plt.plot(result_df[\"N\"], result_df[\"Book Solution\"], \"o\", label = \"Result described in the book\")\n",
    "\n",
    "plt.ylim(0.5)\n",
    "plt.hlines(theoretical_solution, 0, 200, label = \"Theoretical Solution\")\n",
    "plt.legend()\n",
    "plt.xlabel(\"N\")\n",
    "plt.show()"
   ]
  },
  {
   "attachments": {},
   "cell_type": "markdown",
   "metadata": {},
   "source": []
  }
 ],
 "metadata": {
  "kernelspec": {
   "display_name": "aigle-pipeline",
   "language": "python",
   "name": "python3"
  },
  "language_info": {
   "codemirror_mode": {
    "name": "ipython",
    "version": 3
   },
   "file_extension": ".py",
   "mimetype": "text/x-python",
   "name": "python",
   "nbconvert_exporter": "python",
   "pygments_lexer": "ipython3",
   "version": "3.8.12"
  },
  "orig_nbformat": 4
 },
 "nbformat": 4,
 "nbformat_minor": 2
}
